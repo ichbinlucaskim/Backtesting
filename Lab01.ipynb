{
  "cells": [
    {
      "cell_type": "markdown",
      "metadata": {
        "id": "view-in-github",
        "colab_type": "text"
      },
      "source": [
        "<a href=\"https://colab.research.google.com/github/lchbinlucas/Backtesting/blob/main/Lab01.ipynb\" target=\"_parent\"><img src=\"https://colab.research.google.com/assets/colab-badge.svg\" alt=\"Open In Colab\"/></a>"
      ]
    },
    {
      "cell_type": "markdown",
      "metadata": {
        "id": "xfhcB6GKGCRh"
      },
      "source": [
        "<a href=\"https://colab.research.google.com/github/LMU-CMSI-1010/lab-notebooks-original/blob/main/Lab01.ipynb\" target=\"_parent\"><img src=\"https://colab.research.google.com/assets/colab-badge.svg\" alt=\"Open In Colab\"/></a>"
      ]
    },
    {
      "cell_type": "markdown",
      "metadata": {
        "id": "9aXfrLXg9seM"
      },
      "source": [
        "# Lab 01 Taking Orders\n",
        "***\n",
        "In this lab you will practice using strings, variables, printing, and getting input from a user.\n",
        "\n",
        "## Greeting your customer\n",
        "**In the following cell, print a statement to greet your customers and ask their names. Save their names in a variable, so you can use it later.**\n",
        "\n"
      ]
    },
    {
      "cell_type": "code",
      "execution_count": 14,
      "metadata": {
        "id": "BvyaiHRdlsXj",
        "colab": {
          "base_uri": "https://localhost:8080/"
        },
        "outputId": "1012050d-cab8-4ecc-c04b-e04df91e0a4a"
      },
      "outputs": [
        {
          "output_type": "stream",
          "name": "stdout",
          "text": [
            "Hello, nice to meet you\n"
          ]
        }
      ],
      "source": [
        "# Float takes little bit more memory\n",
        "\n",
        "# TODO: Greet your customer and ask for their name\n",
        "\n",
        "print(\"Hello, nice to meet you\")\n",
        "\n",
        "# TODO: Save their name in a variable\n",
        "\n",
        "a = \"customer_A\"\n",
        "b = \"customer_B\"\n"
      ]
    },
    {
      "cell_type": "markdown",
      "metadata": {
        "id": "LCUmYgcomFGg"
      },
      "source": [
        "## Ask for their order by name\n",
        "**In the following cell repeat the customer’s name and ask for their drink and meal order. Remember to save the drink as a variable and also save the meal as another variable.**\n"
      ]
    },
    {
      "cell_type": "code",
      "execution_count": 35,
      "metadata": {
        "id": "5DUZ_9hPmxCi",
        "colab": {
          "base_uri": "https://localhost:8080/"
        },
        "outputId": "4b8a582a-672f-4583-a94b-6bffa78a5af0"
      },
      "outputs": [
        {
          "output_type": "stream",
          "name": "stdout",
          "text": [
            "customer_A, Would you like to something to drink?\n",
            "customer_B, Would you like to something to eat?\n"
          ]
        }
      ],
      "source": [
        "# TODO: Use the customer's name to ask for drink order\n",
        "\n",
        "print(f\"{a}, Would you like to something to drink?\")\n",
        "\n",
        "# TODO: Use the customer's name to ask for meal order\n",
        "\n",
        "print(f\"{b}, Would you like to something to eat?\")\n"
      ]
    },
    {
      "cell_type": "markdown",
      "metadata": {
        "id": "4dODrt9WnO-v"
      },
      "source": [
        "## Repeat their order\n",
        "In the following cell, **thank your customer by name and repeat their order to them. Make sure you use the correct variables when you repeat it.**"
      ]
    },
    {
      "cell_type": "code",
      "execution_count": 33,
      "metadata": {
        "id": "ncutxJBKniMh",
        "colab": {
          "base_uri": "https://localhost:8080/"
        },
        "outputId": "98bd2647-aa9e-490d-89b6-d67e21a74277"
      },
      "outputs": [
        {
          "output_type": "stream",
          "name": "stdout",
          "text": [
            "Thank you customer_A, customer_B\n",
            "Please let me repeat your order for you.\n",
            "I see that you have ordered Pasta, Sprite, Apple pie, and Coffee.\n"
          ]
        }
      ],
      "source": [
        "# Change this code to make sure that you are using the correct customer name, drink, and meal.\n",
        "# TODO: Replace this comment with code to thank customer by name for their order\n",
        "# e.g. Thank you, Lion.\n",
        "\n",
        "\n",
        "print(f\"Thank you {a}, {b}\")\n",
        "print('Please let me repeat your order for you.')\n",
        "\n",
        "A_meal_1 = \"Pasta\"\n",
        "A_drink_1 = \"Sprite\"\n",
        "\n",
        "B_meal_1 = \"Apple pie\"\n",
        "B_drink_1 = \"Coffee\"\n",
        "\n",
        "# TODO: Replace this comment with code to repeat the drink and the meal\n",
        "# e.g. I see that you have ordered a soda and pizza.\n",
        "\n",
        "print(f\"I see that you have ordered {A_meal_1}, {A_drink_1}, {B_meal_1}, and {B_drink_1}.\")"
      ]
    },
    {
      "cell_type": "markdown",
      "metadata": {
        "id": "O8oF7J1OmCnQ"
      },
      "source": [
        "## Challenge—figuring out your bill!\n",
        "Since we don’t have a menu in this lab notebook, we don’t know what our meals should cost. We’ll trust the restaurant to tell you how much your total bill is and the percentage of your original bill that will comprise the tip. Tax is always 10% of the original bill. It randomly chooses your total bill and tip percentage for you. Can you use this information to find out what your original bill costs before the tip?"
      ]
    },
    {
      "cell_type": "code",
      "execution_count": 30,
      "metadata": {
        "id": "mCuyN8JZqPhI",
        "colab": {
          "base_uri": "https://localhost:8080/"
        },
        "outputId": "f7fc89ac-7307-4f50-f619-5d5670068bb5"
      },
      "outputs": [
        {
          "output_type": "stream",
          "name": "stdout",
          "text": [
            "Thank you. Your total bill is $21.93. Your tip percentage is 12%. Tax is 10%.\n"
          ]
        }
      ],
      "source": [
        "# The following code is given to you and does not need to be modified\n",
        "import random\n",
        "\n",
        "# We select a random float between 10 and 30 for the total bill\n",
        "total_bill = round(random.uniform(10, 30), 2)\n",
        "\n",
        "# We select a random integer tip percentage amount between 10 and 25\n",
        "tip = random.randint(10, 25)\n",
        "\n",
        "\n",
        "print('Thank you. Your total bill is $' + str(total_bill) + '. Your tip percentage is ' + str(tip) +'%. Tax is 10%.')"
      ]
    },
    {
      "cell_type": "markdown",
      "metadata": {
        "id": "OIWaikgzrzdR"
      },
      "source": [
        "**Edit the following cell to figure out what your original bill was.** We print it, but right now we always print the same value for the original bill"
      ]
    },
    {
      "cell_type": "code",
      "execution_count": 34,
      "metadata": {
        "id": "TM3VQOMVtiU4",
        "colab": {
          "base_uri": "https://localhost:8080/"
        },
        "outputId": "e0b4b642-fb76-47f9-96b3-da31eb12e9d2"
      },
      "outputs": [
        {
          "output_type": "stream",
          "name": "stdout",
          "text": [
            "Your original bill is $ 19.94\n"
          ]
        }
      ],
      "source": [
        "# TODO: Change this code below to figure out your original bill. Right now, it is always 10.\n",
        "original_bill = total_bill / 1.1\n",
        "\n",
        "# original_bill = round(total_bill / 1.1, 2)\n",
        "\n",
        "# No need to change below\n",
        "print(f\"Your original bill is $ {original_bill:.2f}\")"
      ]
    },
    {
      "cell_type": "markdown",
      "metadata": {
        "id": "dKL0LYd-E4JB"
      },
      "source": [
        "### (optional) Reflections\n",
        "Add a text cell below to answer the following questions:\n",
        "1. What do you feel more confident about after completing this lab?\n",
        "2. What do you feel you can use more help with after completing this lab?\n",
        "3. Do you have any constructive suggestions on how we can help you or improve this lab?"
      ]
    },
    {
      "cell_type": "markdown",
      "metadata": {
        "id": "gB1aHDpyFYey"
      },
      "source": [
        "### Save your work to GitHub\n",
        "Please save this notebook to your lab repository."
      ]
    },
    {
      "cell_type": "code",
      "execution_count": null,
      "metadata": {
        "id": "nwvI8siNGCRo"
      },
      "outputs": [],
      "source": []
    }
  ],
  "metadata": {
    "kernelspec": {
      "display_name": "Python 3.10.0 64-bit",
      "language": "python",
      "name": "python3"
    },
    "language_info": {
      "codemirror_mode": {
        "name": "ipython",
        "version": 3
      },
      "file_extension": ".py",
      "mimetype": "text/x-python",
      "name": "python",
      "nbconvert_exporter": "python",
      "pygments_lexer": "ipython3",
      "version": "3.10.0"
    },
    "vscode": {
      "interpreter": {
        "hash": "aee8b7b246df8f9039afb4144a1f6fd8d2ca17a180786b69acc140d282b71a49"
      }
    },
    "colab": {
      "provenance": [],
      "include_colab_link": true
    }
  },
  "nbformat": 4,
  "nbformat_minor": 0
}